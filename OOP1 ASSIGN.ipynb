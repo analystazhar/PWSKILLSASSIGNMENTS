{
 "cells": [
  {
   "cell_type": "markdown",
   "id": "63f627c4",
   "metadata": {},
   "source": [
    "# 1 ANS"
   ]
  },
  {
   "cell_type": "markdown",
   "id": "4b4d9e29",
   "metadata": {},
   "source": [
    "\n",
    "\n",
    "A class is a blueprint for creating objects providing initial values for state , and implementations of behavior.\n",
    "\n",
    "An object is an instance of a class, created at runtime. Each object has its own unique set of attributes and methods that operate on that data.\n"
   ]
  },
  {
   "cell_type": "code",
   "execution_count": 2,
   "id": "f3e7defc",
   "metadata": {},
   "outputs": [
    {
     "name": "stdout",
     "output_type": "stream",
     "text": [
      "Toyota\n",
      "Camry\n",
      "2022\n",
      "0\n",
      "Toyota Camry, manufactured in 2022\n"
     ]
    }
   ],
   "source": [
    "class Car:\n",
    "  def __init__(self, name, model, year):\n",
    "    self.name = name\n",
    "    self.model = model\n",
    "    self.year = year\n",
    "    self.odometer_reading = 0\n",
    "    \n",
    "  def description(self):\n",
    "    return f\"{self.name} {self.model}, manufactured in {self.year}\"\n",
    "\n",
    "my_car = Car(\"Toyota\", \"Camry\", 2022)\n",
    "print(my_car.name) \n",
    "print(my_car.model) \n",
    "print(my_car.year)\n",
    "print(my_car.odometer_reading)\n",
    "print(my_car.description()) "
   ]
  },
  {
   "cell_type": "markdown",
   "id": "a764c4c2",
   "metadata": {},
   "source": [
    "# 2 ANS"
   ]
  },
  {
   "cell_type": "markdown",
   "id": "9df5c52c",
   "metadata": {},
   "source": [
    " The four pillars of OOPs...\n",
    "    \n",
    "\n",
    "    Encapsulation\n",
    "    Inheritance\n",
    "    Polymorphism\n",
    "    Abstraction\n",
    "\n"
   ]
  },
  {
   "cell_type": "markdown",
   "id": "39bdb3c6",
   "metadata": {},
   "source": [
    "# 3 ANS"
   ]
  },
  {
   "cell_type": "markdown",
   "id": "9fcc52f5",
   "metadata": {},
   "source": [
    "The init method is a special method in Python classes that acts as a constructor. It is automatically called when an object of the class is created. The init method is used to initialize the attributes of the class and set the default values."
   ]
  },
  {
   "cell_type": "code",
   "execution_count": 3,
   "id": "233a9711",
   "metadata": {},
   "outputs": [
    {
     "name": "stdout",
     "output_type": "stream",
     "text": [
      "Toyota\n",
      "Camry\n",
      "2022\n"
     ]
    }
   ],
   "source": [
    "# Example\n",
    "\n",
    "class Car:\n",
    "  def __init__(self, name, model, year):\n",
    "    self.name = name\n",
    "    self.model = model\n",
    "    self.year = year\n",
    "    self.odometer_reading = 0\n",
    "   \n",
    "\n",
    "my_car = Car(\"Toyota\", \"Camry\", 2022)\n",
    "print(my_car.name) \n",
    "print(my_car.model) \n",
    "print(my_car.year)"
   ]
  },
  {
   "cell_type": "markdown",
   "id": "93cfef07",
   "metadata": {},
   "source": [
    "# 4 ANS"
   ]
  },
  {
   "cell_type": "markdown",
   "id": "61630065",
   "metadata": {},
   "source": [
    "self is a reference to the current instance of the class. It is used to access the attributes and methods of the class within the class definition"
   ]
  },
  {
   "cell_type": "markdown",
   "id": "1f039f6b",
   "metadata": {},
   "source": [
    "# 5 ANS"
   ]
  },
  {
   "cell_type": "markdown",
   "id": "7c64fa8f",
   "metadata": {},
   "source": [
    "\n",
    "\n",
    "inheritance is a mechanism in object-oriented programming that allows a new class to be derived from an existing class, inheriting its attributes and behavior. This is useful for creating new classes that are related to existing classes and share some of their functionality.\n",
    "\n",
    "Types of Inheritance\n",
    "\n",
    "    Single Inheritance\n",
    "\n",
    "Single inheritance enables a derived class to inherit properties from a single parent class, thus enabling code reusability and the addition of new features to existing code.\n"
   ]
  },
  {
   "cell_type": "code",
   "execution_count": 4,
   "id": "d5f7fbf9",
   "metadata": {},
   "outputs": [
    {
     "name": "stdout",
     "output_type": "stream",
     "text": [
      "This function is in parent class.\n",
      "This function is in child class.\n"
     ]
    }
   ],
   "source": [
    "#example\n",
    "class Parent:\n",
    "    def func1(self):\n",
    "        print(\"This function is in parent class.\")\n",
    "class Child(Parent):\n",
    "    def func2(self):\n",
    "        print(\"This function is in child class.\")\n",
    "\n",
    "object = Child()\n",
    "object.func1()\n",
    "object.func2()"
   ]
  },
  {
   "cell_type": "markdown",
   "id": "997ca958",
   "metadata": {},
   "source": [
    "\n",
    "\n",
    "    Multiple Inheritance:\n",
    "\n",
    "When a class can be derived from more than one base class this type of inheritance is called multiple inheritances. In multiple inheritances, all the features of the base classes are inherited into the derived class.\n"
   ]
  },
  {
   "cell_type": "code",
   "execution_count": 5,
   "id": "812a13a2",
   "metadata": {},
   "outputs": [
    {
     "name": "stdout",
     "output_type": "stream",
     "text": [
      "Father : RAM\n",
      "Mother : SITA\n"
     ]
    }
   ],
   "source": [
    "class Mother:\n",
    "    mothername = \"\"\n",
    " \n",
    "    def mother(self):\n",
    "        print(self.mothername)\n",
    " \n",
    "class Father:\n",
    "    fathername = \"\"\n",
    " \n",
    "    def father(self):\n",
    "        print(self.fathername)\n",
    "\n",
    "class Son(Mother, Father):\n",
    "    def parents(self):\n",
    "        print(\"Father :\", self.fathername)\n",
    "        print(\"Mother :\", self.mothername)\n",
    "\n",
    "s1 = Son()\n",
    "s1.fathername = \"RAM\"\n",
    "s1.mothername = \"SITA\"\n",
    "s1.parents()\n",
    "     "
   ]
  },
  {
   "cell_type": "markdown",
   "id": "4f70c436",
   "metadata": {},
   "source": [
    "\n",
    "\n",
    "    Multilevel Inheritance :\n",
    "\n",
    "In multilevel inheritance, features of the base class and the derived class are further inherited into the new derived class. This is similar to a relationship representing a child and a grandfather.\n"
   ]
  },
  {
   "cell_type": "code",
   "execution_count": 6,
   "id": "4331bc72",
   "metadata": {},
   "outputs": [
    {
     "name": "stdout",
     "output_type": "stream",
     "text": [
      "Lal mani\n",
      "Grandfather name : Lal mani\n",
      "Father name : Rampal\n",
      "Son name : Prince\n"
     ]
    }
   ],
   "source": [
    "class Grandfather:\n",
    " \n",
    "    def __init__(self, grandfathername):\n",
    "        self.grandfathername = grandfathername\n",
    " \n",
    "\n",
    "class Father(Grandfather):\n",
    "    def __init__(self, fathername, grandfathername):\n",
    "        self.fathername = fathername\n",
    " \n",
    "       \n",
    "        Grandfather.__init__(self, grandfathername)\n",
    " \n",
    "\n",
    " \n",
    " \n",
    "class Son(Father):\n",
    "    def __init__(self, sonname, fathername, grandfathername):\n",
    "        self.sonname = sonname\n",
    " \n",
    "\n",
    "        Father.__init__(self, fathername, grandfathername)\n",
    " \n",
    "    def print_name(self):\n",
    "        print('Grandfather name :', self.grandfathername)\n",
    "        print(\"Father name :\", self.fathername)\n",
    "        print(\"Son name :\", self.sonname)\n",
    " \n",
    " \n",
    "#  Driver code\n",
    "s1 = Son('Prince', 'Rampal', 'Lal mani')\n",
    "print(s1.grandfathername)\n",
    "s1.print_name()\n",
    "     "
   ]
  },
  {
   "cell_type": "markdown",
   "id": "f921ea64",
   "metadata": {},
   "source": [
    "\n",
    "\n",
    "    Hierarchical Inheritance:\n",
    "\n",
    "When more than one derived class are created from a single base this type of inheritance is called hierarchical inheritance. In this program, we have a parent (base) class and two child (derived) classes.\n"
   ]
  },
  {
   "cell_type": "code",
   "execution_count": 7,
   "id": "522d2958",
   "metadata": {},
   "outputs": [
    {
     "name": "stdout",
     "output_type": "stream",
     "text": [
      "This function is in parent class.\n",
      "This function is in child 1.\n",
      "This function is in parent class.\n",
      "This function is in child 2.\n"
     ]
    }
   ],
   "source": [
    "class Parent:\n",
    "    def func1(self):\n",
    "        print(\"This function is in parent class.\")\n",
    " \n",
    "# Derived class1\n",
    " \n",
    " \n",
    "class Child1(Parent):\n",
    "    def func2(self):\n",
    "        print(\"This function is in child 1.\")\n",
    " \n",
    "# Derivied class2\n",
    " \n",
    " \n",
    "class Child2(Parent):\n",
    "    def func3(self):\n",
    "        print(\"This function is in child 2.\")\n",
    " \n",
    " \n",
    "# Driver's code\n",
    "object1 = Child1()\n",
    "object2 = Child2()\n",
    "object1.func1()\n",
    "object1.func2()\n",
    "object2.func1()\n",
    "object2.func3()"
   ]
  },
  {
   "cell_type": "markdown",
   "id": "f1c92519",
   "metadata": {},
   "source": [
    "\n",
    "\n",
    "    Hybrid Inheritance:\n",
    "\n",
    "Inheritance consisting of multiple types of inheritance is called hybrid inheritance.\n"
   ]
  },
  {
   "cell_type": "code",
   "execution_count": 8,
   "id": "be50c020",
   "metadata": {},
   "outputs": [
    {
     "name": "stdout",
     "output_type": "stream",
     "text": [
      "This function is in school.\n",
      "This function is in student 1. \n"
     ]
    }
   ],
   "source": [
    "class School:\n",
    "    def func1(self):\n",
    "        print(\"This function is in school.\")\n",
    " \n",
    " \n",
    "class Student1(School):\n",
    "    def func2(self):\n",
    "        print(\"This function is in student 1. \")\n",
    " \n",
    " \n",
    "class Student2(School):\n",
    "    def func3(self):\n",
    "        print(\"This function is in student 2.\")\n",
    " \n",
    " \n",
    "class Student3(Student1, School):\n",
    "    def func4(self):\n",
    "        print(\"This function is in student 3.\")\n",
    " \n",
    " \n",
    "# Driver's code\n",
    "object = Student3()\n",
    "object.func1()\n",
    "object.func2()"
   ]
  },
  {
   "cell_type": "code",
   "execution_count": null,
   "id": "788a4ce4",
   "metadata": {},
   "outputs": [],
   "source": []
  }
 ],
 "metadata": {
  "kernelspec": {
   "display_name": "Python 3 (ipykernel)",
   "language": "python",
   "name": "python3"
  },
  "language_info": {
   "codemirror_mode": {
    "name": "ipython",
    "version": 3
   },
   "file_extension": ".py",
   "mimetype": "text/x-python",
   "name": "python",
   "nbconvert_exporter": "python",
   "pygments_lexer": "ipython3",
   "version": "3.9.7"
  }
 },
 "nbformat": 4,
 "nbformat_minor": 5
}
