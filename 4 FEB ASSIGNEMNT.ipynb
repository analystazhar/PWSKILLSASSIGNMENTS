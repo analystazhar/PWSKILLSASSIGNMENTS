{
 "cells": [
  {
   "cell_type": "markdown",
   "id": "64de0871",
   "metadata": {},
   "source": [
    "# 1 ANS"
   ]
  },
  {
   "cell_type": "code",
   "execution_count": 1,
   "id": "88260226",
   "metadata": {},
   "outputs": [
    {
     "name": "stdout",
     "output_type": "stream",
     "text": [
      "[('Virat Kohli', 24936), ('Jack Kallis', 25534), ('Ricky Ponting', 27483), ('Sachin Tendulkar', 34357)]\n"
     ]
    }
   ],
   "source": [
    "l=[('Sachin Tendulkar', 34357), ('Ricky Ponting', 27483), ('Jack Kallis', 25534), ('Virat Kohli', 24936)]\n",
    "a=sorted(l,key=lambda x : x[1])\n",
    "print(a)"
   ]
  },
  {
   "cell_type": "markdown",
   "id": "15e2dda4",
   "metadata": {},
   "source": [
    "# 2 ANS"
   ]
  },
  {
   "cell_type": "code",
   "execution_count": 2,
   "id": "c7255bce",
   "metadata": {},
   "outputs": [
    {
     "data": {
      "text/plain": [
       "[1, 4, 9, 16, 25, 36, 49, 64, 81, 100]"
      ]
     },
     "execution_count": 2,
     "metadata": {},
     "output_type": "execute_result"
    }
   ],
   "source": [
    "l=[1, 2, 3, 4, 5, 6, 7, 8, 9, 10]\n",
    "list(map(lambda x : x**2 , l))"
   ]
  },
  {
   "cell_type": "markdown",
   "id": "5ad27ac8",
   "metadata": {},
   "source": [
    "# 3 ANS"
   ]
  },
  {
   "cell_type": "code",
   "execution_count": 3,
   "id": "354cf660",
   "metadata": {},
   "outputs": [
    {
     "data": {
      "text/plain": [
       "('1', '2', '3', '4', '5', '6', '7', '8', '9', '10')"
      ]
     },
     "execution_count": 3,
     "metadata": {},
     "output_type": "execute_result"
    }
   ],
   "source": [
    "l=[1, 2, 3, 4, 5, 6, 7, 8, 9, 10]\n",
    "tuple(map(lambda x : str(x),l))"
   ]
  },
  {
   "cell_type": "markdown",
   "id": "e0c7fed2",
   "metadata": {},
   "source": [
    "# 4 ANS"
   ]
  },
  {
   "cell_type": "code",
   "execution_count": 4,
   "id": "e9acb954",
   "metadata": {},
   "outputs": [
    {
     "data": {
      "text/plain": [
       "15511210043330985984000000"
      ]
     },
     "execution_count": 4,
     "metadata": {},
     "output_type": "execute_result"
    }
   ],
   "source": [
    "l=[1, 2, 3, 4, 5, 6, 7, 8, 9, 10, 11, 12, 13, 14, 15, 16, 17, 18, 19, 20, 21, 22, 23, 24, 25]\n",
    "from functools import reduce \n",
    "reduce(lambda x,y : x*y , l)"
   ]
  },
  {
   "cell_type": "markdown",
   "id": "19f31b27",
   "metadata": {},
   "source": [
    "# 5 ANS"
   ]
  },
  {
   "cell_type": "code",
   "execution_count": 5,
   "id": "a0995074",
   "metadata": {},
   "outputs": [
    {
     "data": {
      "text/plain": [
       "[6, 60, 90, 120]"
      ]
     },
     "execution_count": 5,
     "metadata": {},
     "output_type": "execute_result"
    }
   ],
   "source": [
    "l=[2, 3, 6, 9, 27, 60, 90, 120, 55, 46]\n",
    "list(filter(lambda x : x%6==0 ,l ))"
   ]
  },
  {
   "cell_type": "markdown",
   "id": "11ccde22",
   "metadata": {},
   "source": [
    "# 6 ANS"
   ]
  },
  {
   "cell_type": "code",
   "execution_count": 6,
   "id": "9914a823",
   "metadata": {},
   "outputs": [
    {
     "data": {
      "text/plain": [
       "['php', 'aba', 'radar', 'level']"
      ]
     },
     "execution_count": 6,
     "metadata": {},
     "output_type": "execute_result"
    }
   ],
   "source": [
    "l=['python', 'php', 'aba', 'radar', 'level']\n",
    "list(filter(lambda x : x[::]==x[::-1],l))"
   ]
  },
  {
   "cell_type": "code",
   "execution_count": null,
   "id": "c02f5479",
   "metadata": {},
   "outputs": [],
   "source": []
  }
 ],
 "metadata": {
  "kernelspec": {
   "display_name": "Python 3 (ipykernel)",
   "language": "python",
   "name": "python3"
  },
  "language_info": {
   "codemirror_mode": {
    "name": "ipython",
    "version": 3
   },
   "file_extension": ".py",
   "mimetype": "text/x-python",
   "name": "python",
   "nbconvert_exporter": "python",
   "pygments_lexer": "ipython3",
   "version": "3.9.7"
  }
 },
 "nbformat": 4,
 "nbformat_minor": 5
}
