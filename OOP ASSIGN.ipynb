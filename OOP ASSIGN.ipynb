{
 "cells": [
  {
   "cell_type": "markdown",
   "id": "8c12c121",
   "metadata": {},
   "source": [
    "# 1 ANS"
   ]
  },
  {
   "cell_type": "code",
   "execution_count": 2,
   "id": "f90466c5",
   "metadata": {},
   "outputs": [
    {
     "name": "stdout",
     "output_type": "stream",
     "text": [
      "Car\n",
      "800\n",
      "10\n"
     ]
    }
   ],
   "source": [
    "class Vehicle:\n",
    "    def __init__(self, name_of_vehicle, max_speed, average_of_vehicle):\n",
    "        self.name_of_vehicle = name_of_vehicle\n",
    "        self.max_speed = max_speed\n",
    "        self.average_of_vehicle = average_of_vehicle\n",
    "        \n",
    "car = Vehicle(\"Car\", 800, 10)\n",
    "print(car.name_of_vehicle)  # \"Car\"\n",
    "print(car.max_speed)  # 800\n",
    "print(car.average_of_vehicle)  # 10"
   ]
  },
  {
   "cell_type": "markdown",
   "id": "3bb27e5f",
   "metadata": {},
   "source": [
    "# 2 ANS"
   ]
  },
  {
   "cell_type": "code",
   "execution_count": 3,
   "id": "3a9a66e8",
   "metadata": {},
   "outputs": [
    {
     "name": "stdout",
     "output_type": "stream",
     "text": [
      "The My Car has a seating capacity of 5.\n"
     ]
    }
   ],
   "source": [
    "class Car(Vehicle):\n",
    "    def seating_capacity(self, capacity):\n",
    "        return f\"The {self.name_of_vehicle} has a seating capacity of {capacity}.\"\n",
    "    \n",
    "my_car = Car(\"My Car\", 150, 15)\n",
    "print(my_car.seating_capacity(5))  # \"The My Car has a seating capacity of 5.\""
   ]
  },
  {
   "cell_type": "markdown",
   "id": "aa0f1174",
   "metadata": {},
   "source": [
    "# 3 ANS"
   ]
  },
  {
   "cell_type": "code",
   "execution_count": 4,
   "id": "699357ca",
   "metadata": {},
   "outputs": [
    {
     "name": "stdout",
     "output_type": "stream",
     "text": [
      "Engine started.\n",
      "Fuel tank filled with 50 liters.\n",
      "Car is driving.\n"
     ]
    }
   ],
   "source": [
    "'''\n",
    "Ans>    Multiple inheritance is a feature of object-oriented programming that allows a class to inherit \n",
    "        attributes and behaviors from multiple parent classes. This allows for greater flexibility and \n",
    "        code reuse, as a single class can inherit the characteristics of multiple existing classes.'''\n",
    "class Engine:\n",
    "    def start(self):\n",
    "        return \"Engine started.\"\n",
    "\n",
    "class FuelSystem:\n",
    "    def fill_fuel(self, fuel_amount):\n",
    "        return f\"Fuel tank filled with {fuel_amount} liters.\"\n",
    "\n",
    "class Car(Engine, FuelSystem):\n",
    "    def drive(self):\n",
    "        return \"Car is driving.\"\n",
    "\n",
    "my_car = Car()\n",
    "print(my_car.start())  # \"Engine started.\"\n",
    "print(my_car.fill_fuel(50))  # \"Fuel tank filled with 50 liters.\"\n",
    "print(my_car.drive())  # \"Car is driving.\""
   ]
  },
  {
   "cell_type": "markdown",
   "id": "70c2390d",
   "metadata": {},
   "source": [
    "# 4 ANS"
   ]
  },
  {
   "cell_type": "code",
   "execution_count": 5,
   "id": "10f8fe24",
   "metadata": {},
   "outputs": [
    {
     "name": "stdout",
     "output_type": "stream",
     "text": [
      "John Doe\n",
      "Jane Doe\n",
      "30\n",
      "35\n"
     ]
    }
   ],
   "source": [
    "'''\n",
    "Ans>    Getters and setters are methods in object-oriented programming that allow you to control access to the \n",
    "        attributes of an object. A getter method is used to retrieve the value of an attribute, while a setter \n",
    "        method is used to set the value of an attribute.'''\n",
    "class Person:\n",
    "    def __init__(self, name, age):\n",
    "        self._name = name\n",
    "        self._age = age\n",
    "\n",
    "    @property\n",
    "    def name(self):\n",
    "        return self._name\n",
    "\n",
    "    @name.setter\n",
    "    def name(self, value):\n",
    "        if not isinstance(value, str):\n",
    "            raise TypeError(\"Name must be a string.\")\n",
    "        self._name = value\n",
    "\n",
    "    @property\n",
    "    def age(self):\n",
    "        return self._age\n",
    "\n",
    "    @age.setter\n",
    "    def age(self, value):\n",
    "        if not isinstance(value, int):\n",
    "            raise TypeError(\"Age must be an integer.\")\n",
    "        self._age = value\n",
    "\n",
    "person = Person(\"John Doe\", 30)\n",
    "print(person.name)  # \"John Doe\"\n",
    "person.name = \"Jane Doe\"\n",
    "print(person.name)  # \"Jane Doe\"\n",
    "print(person.age)  # 30\n",
    "person.age = 35\n",
    "print(person.age)  # 35"
   ]
  },
  {
   "cell_type": "markdown",
   "id": "c3db61d8",
   "metadata": {},
   "source": [
    "# 5 ANS"
   ]
  },
  {
   "cell_type": "markdown",
   "id": "097902d4",
   "metadata": {},
   "source": [
    "Method overriding is a concept in object-oriented programming where a subclass provides a specific implementation of a method that is already defined in its superclass. This allows you to customize the behavior of a method in the subclass while keeping the method name and signature the same as in the superclass.\n",
    "\n",
    "In Python, method overriding is achieved by defining a method in a subclass with the same name as a method in its superclass. When you call the method on an instance of the subclass, the overridden method in the subclass will be executed instead of the one in the superclass."
   ]
  },
  {
   "cell_type": "code",
   "execution_count": 6,
   "id": "7775d816",
   "metadata": {},
   "outputs": [
    {
     "name": "stdout",
     "output_type": "stream",
     "text": [
      "Dog barks\n",
      "Cat meows\n"
     ]
    }
   ],
   "source": [
    "class Animal:\n",
    "    def speak(self):\n",
    "        print(\"Animal speaks\")\n",
    "\n",
    "class Dog(Animal):\n",
    "    def speak(self):\n",
    "        print(\"Dog barks\")\n",
    "\n",
    "class Cat(Animal):\n",
    "    def speak(self):\n",
    "        print(\"Cat meows\")\n",
    "\n",
    "# Create instances of the subclasses\n",
    "dog = Dog()\n",
    "cat = Cat()\n",
    "\n",
    "# Call the speak method on instances\n",
    "dog.speak()  # This will print \"Dog barks\"\n",
    "cat.speak()  # This will print \"Cat meows\"\n"
   ]
  },
  {
   "cell_type": "code",
   "execution_count": null,
   "id": "2fc79348",
   "metadata": {},
   "outputs": [],
   "source": []
  }
 ],
 "metadata": {
  "kernelspec": {
   "display_name": "Python 3 (ipykernel)",
   "language": "python",
   "name": "python3"
  },
  "language_info": {
   "codemirror_mode": {
    "name": "ipython",
    "version": 3
   },
   "file_extension": ".py",
   "mimetype": "text/x-python",
   "name": "python",
   "nbconvert_exporter": "python",
   "pygments_lexer": "ipython3",
   "version": "3.9.7"
  }
 },
 "nbformat": 4,
 "nbformat_minor": 5
}
