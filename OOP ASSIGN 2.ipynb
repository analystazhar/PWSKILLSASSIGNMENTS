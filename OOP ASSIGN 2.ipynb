{
 "cells": [
  {
   "cell_type": "markdown",
   "id": "ac4b5cbe",
   "metadata": {},
   "source": [
    "# 1 ANS"
   ]
  },
  {
   "cell_type": "markdown",
   "id": "2c7b1c91",
   "metadata": {},
   "source": [
    "Abstraction in python is defined as a process of handling complexity by hiding unnecessary information from the user. This is one of the core concepts of object-oriented programming (OOP) languages. That enables the user to implement even more complex logic on top of the provided abstraction without understanding or even thinking about all the hidden background/back-end complexity."
   ]
  },
  {
   "cell_type": "code",
   "execution_count": 1,
   "id": "2b61e089",
   "metadata": {},
   "outputs": [
    {
     "name": "stdout",
     "output_type": "stream",
     "text": [
      "The mileage is 30kmph\n",
      "The mileage is 27kmph \n",
      "The mileage is 25kmph \n",
      "The mileage is 24kmph \n"
     ]
    }
   ],
   "source": [
    "from abc import ABC, abstractmethod   \n",
    "class Car(ABC):   \n",
    "    def mileage(self):   \n",
    "        pass  \n",
    "  \n",
    "class Tesla(Car):   \n",
    "    def mileage(self):   \n",
    "        print(\"The mileage is 30kmph\")   \n",
    "class Suzuki(Car):   \n",
    "    def mileage(self):   \n",
    "        print(\"The mileage is 25kmph \")   \n",
    "class Duster(Car):   \n",
    "     def mileage(self):   \n",
    "          print(\"The mileage is 24kmph \")   \n",
    "  \n",
    "class Renault(Car):   \n",
    "    def mileage(self):   \n",
    "            print(\"The mileage is 27kmph \")   \n",
    "          \n",
    "# Driver code   \n",
    "t= Tesla ()   \n",
    "t.mileage()   \n",
    "  \n",
    "r = Renault()   \n",
    "r.mileage()   \n",
    "  \n",
    "s = Suzuki()   \n",
    "s.mileage()   \n",
    "d = Duster()   \n",
    "d.mileage()  "
   ]
  },
  {
   "cell_type": "markdown",
   "id": "9d6053ca",
   "metadata": {},
   "source": [
    "# 2 ANS"
   ]
  },
  {
   "cell_type": "markdown",
   "id": "b5892a5b",
   "metadata": {},
   "source": [
    "Abstraction is the process or method of gaining the information. While encapsulation is the process or method to contain the information. In abstraction, problems are solved at the design or interface level. While in encapsulation, problems are solved at the implementation level."
   ]
  },
  {
   "cell_type": "markdown",
   "id": "8d987fae",
   "metadata": {},
   "source": [
    "# 3 ANS"
   ]
  },
  {
   "cell_type": "markdown",
   "id": "1ec7a040",
   "metadata": {},
   "source": [
    "\n",
    "\n",
    "The abc module in Python is the Abstract Base Class module. It is used to define abstract base classes, which provide a way to define interfaces in Python. An abstract base class is a class that cannot be instantiated, but can be subclassed. The purpose of an abstract base class is to specify the interface that its subclasses must implement, without specifying how that implementation should be done.\n",
    "\n",
    "The abc module provides a way to create abstract base classes in Python by using the ABC class, as well as several decorators and methods to define abstract methods and properties.\n"
   ]
  },
  {
   "cell_type": "markdown",
   "id": "25f40704",
   "metadata": {},
   "source": [
    "# 4 ANS"
   ]
  },
  {
   "cell_type": "markdown",
   "id": "fdf4aabd",
   "metadata": {},
   "source": [
    "\n",
    "\n",
    "Data abstraction is a programming concept that allows you to define the interface of an object without revealing the underlying implementation details. In other words, it provides a way to separate the implementation details of an object from the way it is used by other objects.\n",
    "\n",
    "There are several ways to achieve data abstraction in programming:\n",
    "\n",
    "Abstraction through classes: One of the most common ways to achieve data abstraction is through the use of classes. In object-oriented programming, classes provide a way to define objects with certain properties and methods, but hide the underlying implementation details from the rest of the code. For example, you can define a class with public methods that expose its behavior, but keep the implementation details private.\n",
    "\n",
    "Interfaces: An interface is a collection of abstract methods that must be implemented by any class that implements the interface. Interfaces are used to define a common set of behaviors that can be implemented by different classes, without specifying the implementation details. For example, in Java, you can define an interface that specifies the methods that must be implemented by a class that implements the interface.\n",
    "\n",
    "Modules: In some programming languages, like Python, you can use modules to define a set of related functions and variables, and hide the implementation details behind a well-defined interface. Modules provide a way to encapsulate the implementation details of a set of functions, and expose them to the rest of the code through a simple API.\n",
    "\n",
    "Information hiding: Information hiding is a programming concept that involves hiding the implementation details of an object or function behind a well-defined interface. Information hiding is used to protect the internal state of an object from being modified by external code, and to provide a clear and well-defined way for other objects to interact with the object.\n"
   ]
  },
  {
   "cell_type": "markdown",
   "id": "416539ad",
   "metadata": {},
   "source": [
    "# 5 ANS"
   ]
  },
  {
   "cell_type": "markdown",
   "id": "a9c6bae7",
   "metadata": {},
   "source": [
    "No, you cannot create an instance of an abstract class. An abstract class is a class that cannot be instantiated on its own, but is intended to be subclassed and have its abstract methods implemented by the subclasses. The purpose of an abstract class is to provide a common interface for a set of related classes, but not to be used as a standalone object."
   ]
  },
  {
   "cell_type": "code",
   "execution_count": null,
   "id": "d90991e4",
   "metadata": {},
   "outputs": [],
   "source": []
  }
 ],
 "metadata": {
  "kernelspec": {
   "display_name": "Python 3 (ipykernel)",
   "language": "python",
   "name": "python3"
  },
  "language_info": {
   "codemirror_mode": {
    "name": "ipython",
    "version": 3
   },
   "file_extension": ".py",
   "mimetype": "text/x-python",
   "name": "python",
   "nbconvert_exporter": "python",
   "pygments_lexer": "ipython3",
   "version": "3.9.7"
  }
 },
 "nbformat": 4,
 "nbformat_minor": 5
}
